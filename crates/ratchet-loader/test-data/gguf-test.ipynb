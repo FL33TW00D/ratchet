{
 "cells": [
  {
   "cell_type": "code",
   "execution_count": 2,
   "metadata": {},
   "outputs": [],
   "source": [
    "\n",
    "from gguf import GGUFWriter, GGUFReader, GGMLQuantizationType  # noqa: E402\n",
    "import numpy as np"
   ]
  },
  {
   "cell_type": "code",
   "execution_count": null,
   "metadata": {},
   "outputs": [],
   "source": [
    "\n",
    "gguf_writer = GGUFWriter(\"test.gguf\", \"llama\")\n",
    "\n",
    "# gguf_writer.add_block_count(256)\n",
    "gguf_writer.add_quantization_version(GGMLQuantizationType.Q4_K)\n",
    "gguf_writer.add_file_type(1)\n",
    "tensor1 = np.random.rand(256, 1).astype(np.float16)\n",
    "\n",
    "gguf_writer.add_tensor(\"tensor1\", tensor1)\n",
    "gguf_writer.write_header_to_file()\n",
    "gguf_writer.write_kv_data_to_file()\n",
    "gguf_writer.write_tensors_to_file()\n",
    "\n",
    "gguf_writer.close()"
   ]
  },
  {
   "cell_type": "code",
   "execution_count": 4,
   "metadata": {},
   "outputs": [
    {
     "name": "stdout",
     "output_type": "stream",
     "text": [
      "ReaderField(offset=723838, name='general.quantization_version', parts=[memmap([28], dtype=uint64), memmap([103, 101, 110, 101, 114,  97, 108,  46, 113, 117,  97, 110, 116,\n",
      "        105, 122,  97, 116, 105, 111, 110,  95, 118, 101, 114, 115, 105,\n",
      "        111, 110], dtype=uint8), memmap([4], dtype=uint32), memmap([2], dtype=uint32)], data=[3], types=[<GGUFValueType.UINT32: 4>])\n"
     ]
    }
   ],
   "source": [
    "gguf_reader = GGUFReader(\"nano-llama2-q4k.gguf\")\n",
    "tensor = gguf_reader.get_tensor(0)\n",
    "ftype = gguf_reader.get_field(\"general.file_type\")\n",
    "q = gguf_reader.get_field(\"general.quantization_version\")\n",
    "print(q)\n",
    "# print(tensor)"
   ]
  }
 ],
 "metadata": {
  "kernelspec": {
   "display_name": "ratchet",
   "language": "python",
   "name": "python3"
  },
  "language_info": {
   "codemirror_mode": {
    "name": "ipython",
    "version": 3
   },
   "file_extension": ".py",
   "mimetype": "text/x-python",
   "name": "python",
   "nbconvert_exporter": "python",
   "pygments_lexer": "ipython3",
   "version": "3.10.13"
  }
 },
 "nbformat": 4,
 "nbformat_minor": 2
}
